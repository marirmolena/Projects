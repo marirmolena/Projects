{
 "cells": [
  {
   "cell_type": "markdown",
   "metadata": {},
   "source": [
    "Análise de Sentimento de Tweets\n",
    "\n",
    "Número de -1 a 1\n",
    "\n",
    "O quanto mais próximo de 1, mais positivo."
   ]
  },
  {
   "cell_type": "code",
   "execution_count": 44,
   "metadata": {},
   "outputs": [],
   "source": [
    "from TwitterSearch import *"
   ]
  },
  {
   "cell_type": "code",
   "execution_count": 45,
   "metadata": {},
   "outputs": [],
   "source": [
    "import pandas as pd\n",
    "import codecs\n",
    "import nltk\n",
    "from nltk import tokenize\n",
    "from wordcloud import WordCloud\n",
    "import seaborn as sns\n",
    "import re\n",
    "from sklearn.feature_extraction.text import CountVectorizer\n",
    "from unidecode import unidecode\n",
    "import matplotlib.pyplot as plt\n",
    "import csv\n",
    "from textblob import TextBlob as tb\n",
    "import tweepy\n",
    "import numpy as np"
   ]
  },
  {
   "cell_type": "code",
   "execution_count": 46,
   "metadata": {},
   "outputs": [],
   "source": [
    "consumer_key = 'KEY",
    "consumer_secret = 'SECRET KEY',
    "access_token = 'TOKEN",
    "access_token_secret = 'SECRET TOKEN'"
   ]
  },
  {
   "cell_type": "code",
   "execution_count": 47,
   "metadata": {},
   "outputs": [],
   "source": [
    "auth = tweepy.OAuthHandler(consumer_key, consumer_secret)\n",
    "auth.set_access_token(access_token, access_token_secret)\n",
    "api = tweepy.API(auth)"
   ]
  },
  {
   "cell_type": "code",
   "execution_count": 52,
   "metadata": {},
   "outputs": [],
   "source": [
    "#Variável que irá armazenar todos os Tweets com a palavra escolhida na função search da API\n",
    "public_tweets = api.search('Brazil')"
   ]
  },
  {
   "cell_type": "code",
   "execution_count": 53,
   "metadata": {},
   "outputs": [],
   "source": [
    "#Variável que irá armazenar as polaridades\n",
    "analysis = None"
   ]
  },
  {
   "cell_type": "code",
   "execution_count": 54,
   "metadata": {},
   "outputs": [
    {
     "name": "stdout",
     "output_type": "stream",
     "text": [
      "RT @chartsastro: #ASTRO is Trending at #1 in Brazil.\n",
      "0.0\n",
      "RT @btsworldwider: #IUxSUGA World Trends\n",
      "#1 Morocco\n",
      "#4 Worldwide [Peak #2] \n",
      "#4 Egypt\n",
      "#4 Turkey\n",
      "#5 Chile\n",
      "#5 Saudi Arabia\n",
      "#6 Canada\n",
      "#11 Puert…\n",
      "0.0\n",
      "RT @bortolouca: brazil out of context https://t.co/xr2INnPG6e\n",
      "0.0\n",
      "RT @chartsastro: #ASTRO is Trending at #1 in Brazil.\n",
      "0.0\n",
      "RT @spettypi: He was in Palm Beach March 6-9 golfing, holding fundraisers and dinner with the president of Brazil\n",
      "0.0\n",
      "RT @AusEmbCL: Over 200 Aussies &amp; Kiwis on their way home from Ecuador 🇪🇨, Chile 🇨🇱, Brazil 🇧🇷, Bolivia 🇧🇴, Colombia 🇨🇴 &amp; Uruguay 🇺🇾 on an…\n",
      "0.0\n",
      "RT @TribalArmy: As COVID-19 reaches the cluster of indigenous population in Brazil, Canada and others, it is a note of caution for India to…\n",
      "0.0\n",
      "RT @misticpoison: @starringkzan in brazil we don't say \"we're better now\", we say \"saudades, né minha filha...\" and i think that's beaultif…\n",
      "0.5\n",
      "Boeing bails on $4.2bn JV with Brazil’s Embraer - https://t.co/mdAf3HasSQ https://t.co/NO2qhdX6G9\n",
      "0.0\n",
      "RT @getserious1234: The morgue of the Municipal Hospital in Duque de Caxias, Rio's largest suburb, was packed with bodies of #coronavirus d…\n",
      "0.0\n",
      "RT @DrJdaC: Coronavírus: Manaus vive cenário de caos nos hospitais e cemitérios | Fantástico | G1. Bolsonaro’s Brazil  https://t.co/BvuxFiw…\n",
      "0.0\n",
      "@NoahUrrea Noah it's already 3:40 AM here in Brazil hahahah talk to us we're very bored rn\n",
      "-0.65\n",
      "RT @RGlau75: @LewisHamilton I am Brazilian, and when I was 7 years old, I watched the race in which he suffered the accident in 1994, Senna…\n",
      "0.1\n",
      "RT @chartsastro: #ASTRO is Trending at #1 in Brazil.\n",
      "0.0\n",
      "@MinAyandaDlodlo https://t.co/OGxSdxGjKQ\n",
      "0.0\n"
     ]
    }
   ],
   "source": [
    "tweets = [] # Lista vazia para armazenar scores\n",
    "for tweet in public_tweets:\n",
    "    print(tweet.text)\n",
    "    analysis = tb(tweet.text)\n",
    "    polarity = analysis.sentiment.polarity\n",
    "    tweets.append(polarity)\n",
    "    print(polarity)"
   ]
  },
  {
   "cell_type": "code",
   "execution_count": 55,
   "metadata": {},
   "outputs": [
    {
     "name": "stdout",
     "output_type": "stream",
     "text": [
      "MÉDIA DE SENTIMENTO: -0.0033333333333333344\n"
     ]
    }
   ],
   "source": [
    "print('MÉDIA DE SENTIMENTO: ' + str(np.mean(tweets)))\n"
   ]
  },
  {
   "cell_type": "markdown",
   "metadata": {},
   "source": [
    "Podemos notar que a visão internacional sobre o Brasil está bastante negativa"
   ]
  },
  {
   "cell_type": "code",
   "execution_count": null,
   "metadata": {},
   "outputs": [],
   "source": []
  },
  {
   "cell_type": "code",
   "execution_count": null,
   "metadata": {},
   "outputs": [],
   "source": []
  },
  {
   "cell_type": "code",
   "execution_count": null,
   "metadata": {},
   "outputs": [],
   "source": []
  },
  {
   "cell_type": "code",
   "execution_count": null,
   "metadata": {},
   "outputs": [],
   "source": []
  },
  {
   "cell_type": "code",
   "execution_count": null,
   "metadata": {},
   "outputs": [],
   "source": []
  },
  {
   "cell_type": "code",
   "execution_count": null,
   "metadata": {},
   "outputs": [],
   "source": []
  },
  {
   "cell_type": "code",
   "execution_count": null,
   "metadata": {},
   "outputs": [],
   "source": []
  },
  {
   "cell_type": "code",
   "execution_count": null,
   "metadata": {},
   "outputs": [],
   "source": []
  },
  {
   "cell_type": "code",
   "execution_count": null,
   "metadata": {},
   "outputs": [],
   "source": []
  },
  {
   "cell_type": "code",
   "execution_count": null,
   "metadata": {},
   "outputs": [],
   "source": []
  },
  {
   "cell_type": "code",
   "execution_count": null,
   "metadata": {},
   "outputs": [],
   "source": []
  },
  {
   "cell_type": "code",
   "execution_count": null,
   "metadata": {},
   "outputs": [],
   "source": []
  },
  {
   "cell_type": "code",
   "execution_count": null,
   "metadata": {},
   "outputs": [],
   "source": []
  },
  {
   "cell_type": "code",
   "execution_count": null,
   "metadata": {},
   "outputs": [],
   "source": []
  },
  {
   "cell_type": "code",
   "execution_count": null,
   "metadata": {},
   "outputs": [],
   "source": [
    "\n"
   ]
  },
  {
   "cell_type": "code",
   "execution_count": null,
   "metadata": {},
   "outputs": [],
   "source": []
  },
  {
   "cell_type": "code",
   "execution_count": null,
   "metadata": {},
   "outputs": [],
   "source": []
  },
  {
   "cell_type": "code",
   "execution_count": null,
   "metadata": {},
   "outputs": [],
   "source": []
  },
  {
   "cell_type": "code",
   "execution_count": null,
   "metadata": {},
   "outputs": [],
   "source": []
  },
  {
   "cell_type": "code",
   "execution_count": null,
   "metadata": {},
   "outputs": [],
   "source": []
  }
 ],
 "metadata": {
  "kernelspec": {
   "display_name": "Python 3",
   "language": "python",
   "name": "python3"
  },
  "language_info": {
   "codemirror_mode": {
    "name": "ipython",
    "version": 3
   },
   "file_extension": ".py",
   "mimetype": "text/x-python",
   "name": "python",
   "nbconvert_exporter": "python",
   "pygments_lexer": "ipython3",
   "version": "3.7.4"
  }
 },
 "nbformat": 4,
 "nbformat_minor": 2
}
